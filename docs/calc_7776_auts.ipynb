{
 "cells": [
  {
   "cell_type": "code",
   "execution_count": null,
   "metadata": {},
   "outputs": [],
   "source": [
    "mg = UPL_Monoid()\n",
    "_,X = mg.get_object()\n",
    "auts = mg.get_automorphisms()"
   ]
  },
  {
   "cell_type": "code",
   "execution_count": null,
   "metadata": {},
   "outputs": [],
   "source": [
    "CAT_AUT = []\n",
    "\n",
    "for aut_idx in range(12):\n",
    "    print(aut_idx)\n",
    "    aut_mapping = auts[aut_idx].get_morphism_mapping()\n",
    "    gen_mapping = {\"U\":aut_mapping[\"U\"],\"P\":aut_mapping[\"P\"],\"L\":aut_mapping[\"L\"]}\n",
    "    \n",
    "    for permut_idx in range(8):\n",
    "        for group_elems in product([\"id_.\",\"LP\",\"PL\"],repeat=4):\n",
    "            aut = auts[aut_idx]\n",
    "\n",
    "            augmented = [\"C_aug\",\"G_aug\",\"D_aug\",\"F_aug\"]\n",
    "            base_chords = [\"C_M\",\"Eb_M\",\"Fs_M\",\"A_M\"]\n",
    "            permuts_a = [[0,1,2,3],[1,2,3,0],[2,3,0,1],[3,0,1,2],\n",
    "                         [0,3,2,1],[1,0,3,2],[2,1,0,3],[3,2,1,0]]\n",
    "            permuts_c = [[0,1,2,3],[1,2,3,0],[2,3,0,1],[3,0,1,2],\n",
    "                         [3,2,1,0],[0,3,2,1],[1,0,3,2],[2,1,0,3]]\n",
    "\n",
    "\n",
    "            d={x:[y] for x,y in zip(augmented,\n",
    "                                    [augmented[x] for x in permuts_a[permut_idx]]\n",
    "                                   )\n",
    "              }\n",
    "            flag_invert=1\n",
    "            if permut_idx>3:\n",
    "                flag_invert=-1\n",
    "            if aut.get_image_morphism(\"U\")==\"LUL\":\n",
    "                flag_invert*=-1\n",
    "\n",
    "            new_group_elems = group_elems[:]\n",
    "            if flag_invert==-1:\n",
    "                new_group_elems=[mg.mult(\"P\",x) for x in new_group_elems]\n",
    "            permuted_chords = [mg.apply_operation(g,base_chords[x])[0] for g,x in zip(new_group_elems,permuts_c[permut_idx])]\n",
    "\n",
    "            for x,y in zip(base_chords,permuted_chords):\n",
    "                for m in [\"L\",\"LP\",\"P\",\"PL\",\"PLP\",\"id_.\"]:\n",
    "                    p = mg.apply_operation(m,x)[0]\n",
    "                    f = aut.get_image_morphism(m)\n",
    "                    z = mg.apply_operation(f,y)\n",
    "                    d[p]=z\n",
    "\n",
    "            eta = CatMorphism(\"eta\",X,X)\n",
    "            eta.set_mapping(d)\n",
    "            N = CategoryActionFunctor(mg,mg,aut,{\".\":eta})\n",
    "\n",
    "            CAT_AUT.append((aut,gen_mapping,d))"
   ]
  },
  {
   "cell_type": "code",
   "execution_count": null,
   "metadata": {},
   "outputs": [],
   "source": [
    "automorphism_data = {i:{\"gen_mapping\":x[1],\"chord_mapping\":{k:v[0] for k,v in x[2].items()}} for i,x in enumerate(CAT_AUT)}\n",
    "import json\n",
    "with open('./UPL_automorphisms.json', 'w') as f:\n",
    "    json.dump(automorphism_data, f)"
   ]
  }
 ],
 "metadata": {
  "kernelspec": {
   "display_name": "Python 3",
   "language": "python",
   "name": "python3"
  },
  "language_info": {
   "codemirror_mode": {
    "name": "ipython",
    "version": 3
   },
   "file_extension": ".py",
   "mimetype": "text/x-python",
   "name": "python",
   "nbconvert_exporter": "python",
   "pygments_lexer": "ipython3",
   "version": "3.6.7"
  }
 },
 "nbformat": 4,
 "nbformat_minor": 2
}
